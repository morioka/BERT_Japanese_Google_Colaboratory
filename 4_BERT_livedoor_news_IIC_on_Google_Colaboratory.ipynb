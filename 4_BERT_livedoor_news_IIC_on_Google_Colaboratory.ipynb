{
  "nbformat": 4,
  "nbformat_minor": 0,
  "metadata": {
    "accelerator": "GPU",
    "colab": {
      "name": "4_BERT_livedoor_news_IIC_on_Google_Colaboratory.ipynb",
      "provenance": [],
      "collapsed_sections": [],
      "include_colab_link": true
    },
    "kernelspec": {
      "display_name": "Python 3",
      "language": "python",
      "name": "python3"
    },
    "language_info": {
      "codemirror_mode": {
        "name": "ipython",
        "version": 3
      },
      "file_extension": ".py",
      "mimetype": "text/x-python",
      "name": "python",
      "nbconvert_exporter": "python",
      "pygments_lexer": "ipython3",
      "version": "3.7.6"
    }
  },
  "cells": [
    {
      "cell_type": "markdown",
      "metadata": {
        "id": "view-in-github",
        "colab_type": "text"
      },
      "source": [
        "<a href=\"https://colab.research.google.com/github/morioka/BERT_Japanese_Google_Colaboratory/blob/master/4_BERT_livedoor_news_IIC_on_Google_Colaboratory.ipynb\" target=\"_parent\"><img src=\"https://colab.research.google.com/assets/colab-badge.svg\" alt=\"Open In Colab\"/></a>"
      ]
    },
    {
      "cell_type": "markdown",
      "metadata": {
        "id": "VYlVm0kpjx57"
      },
      "source": [
        "## 日本語BERTでlivedoorニュースを相互情報量最大化(IIC)でクラスタリング"
      ]
    },
    {
      "cell_type": "code",
      "metadata": {
        "id": "IqIW6ar2Bm3J",
        "colab": {
          "base_uri": "https://localhost:8080/"
        },
        "outputId": "8de4c506-97bd-4216-c04c-abc9ea0270a0"
      },
      "source": [
        "# 乱数シードの固定\n",
        "\n",
        "import os\n",
        "import random\n",
        "import numpy as np\n",
        "import torch\n",
        "\n",
        "SEED_VALUE = 1234  # これはなんでも良い\n",
        "os.environ['PYTHONHASHSEED'] = str(SEED_VALUE)\n",
        "random.seed(SEED_VALUE)\n",
        "np.random.seed(SEED_VALUE)\n",
        "torch.manual_seed(SEED_VALUE)  # PyTorchを使う場合\n"
      ],
      "execution_count": 1,
      "outputs": [
        {
          "output_type": "execute_result",
          "data": {
            "text/plain": [
              "<torch._C.Generator at 0x7f6f646119b0>"
            ]
          },
          "metadata": {
            "tags": []
          },
          "execution_count": 1
        }
      ]
    },
    {
      "cell_type": "markdown",
      "metadata": {
        "id": "Ii-mqaAhCApI"
      },
      "source": [
        "### GPUの使用可能を確認\n",
        "\n",
        "画面上部のメニュー ランタイム > ランタイムのタイプを変更 で、 ノートブックの設定 を開く\n",
        "\n",
        "ハードウェアアクセラレータに GPU を選択し、 保存 する"
      ]
    },
    {
      "cell_type": "code",
      "metadata": {
        "id": "W8TJgawCB_Nb",
        "colab": {
          "base_uri": "https://localhost:8080/"
        },
        "outputId": "7777eb52-3313-4c38-e187-a9125ed4adb4"
      },
      "source": [
        "# GPUの使用確認：True or False\n",
        "torch.cuda.is_available()\n",
        "\n",
        "# TrueならGPU使用可能"
      ],
      "execution_count": 2,
      "outputs": [
        {
          "output_type": "execute_result",
          "data": {
            "text/plain": [
              "True"
            ]
          },
          "metadata": {
            "tags": []
          },
          "execution_count": 2
        }
      ]
    },
    {
      "cell_type": "markdown",
      "metadata": {
        "id": "gc6dbVUfj1W-"
      },
      "source": [
        "## 準備1：livedoorニュースをダウンロードして、PyTorchのDataLoaderに変換\n"
      ]
    },
    {
      "cell_type": "code",
      "metadata": {
        "id": "8Vh0a49Gp-rS",
        "colab": {
          "base_uri": "https://localhost:8080/"
        },
        "outputId": "7d2df7ac-8c50-4f5b-f2c6-bffd86cf6649"
      },
      "source": [
        "# Livedoorニュースのファイルをダウンロード\n",
        "! wget \"https://www.rondhuit.com/download/ldcc-20140209.tar.gz\""
      ],
      "execution_count": 3,
      "outputs": [
        {
          "output_type": "stream",
          "text": [
            "--2021-04-23 15:48:35--  https://www.rondhuit.com/download/ldcc-20140209.tar.gz\n",
            "Resolving www.rondhuit.com (www.rondhuit.com)... 59.106.19.174\n",
            "Connecting to www.rondhuit.com (www.rondhuit.com)|59.106.19.174|:443... connected.\n",
            "HTTP request sent, awaiting response... 200 OK\n",
            "Length: 8855190 (8.4M) [application/x-gzip]\n",
            "Saving to: ‘ldcc-20140209.tar.gz.1’\n",
            "\n",
            "ldcc-20140209.tar.g 100%[===================>]   8.44M  4.06MB/s    in 2.1s    \n",
            "\n",
            "2021-04-23 15:48:38 (4.06 MB/s) - ‘ldcc-20140209.tar.gz.1’ saved [8855190/8855190]\n",
            "\n"
          ],
          "name": "stdout"
        }
      ]
    },
    {
      "cell_type": "code",
      "metadata": {
        "id": "keY2WGdwjzLD",
        "colab": {
          "base_uri": "https://localhost:8080/"
        },
        "outputId": "e39cfdf8-07a2-4ae8-8c26-6b1b859b8980"
      },
      "source": [
        "# ファイルを解凍し、カテゴリー数と内容を確認\n",
        "import tarfile\n",
        "import os\n",
        "\n",
        "# 解凍\n",
        "tar = tarfile.open(\"ldcc-20140209.tar.gz\", \"r:gz\")\n",
        "tar.extractall(\"./data/livedoor/\")\n",
        "tar.close()\n",
        "\n",
        "# フォルダのファイルとディレクトリを確認\n",
        "files_folders = [name for name in os.listdir(\"./data/livedoor/text/\")]\n",
        "print(files_folders)\n",
        "\n",
        "# カテゴリーのフォルダのみを抽出\n",
        "categories = [name for name in os.listdir(\n",
        "    \"./data/livedoor/text/\") if os.path.isdir(\"./data/livedoor/text/\"+name)]\n",
        "\n",
        "print(\"カテゴリー数:\", len(categories))\n",
        "print(categories)\n"
      ],
      "execution_count": 4,
      "outputs": [
        {
          "output_type": "stream",
          "text": [
            "['peachy', 'movie-enter', 'smax', 'kaden-channel', 'livedoor-homme', 'it-life-hack', 'topic-news', 'sports-watch', 'README.txt', 'dokujo-tsushin', 'CHANGES.txt']\n",
            "カテゴリー数: 9\n",
            "['peachy', 'movie-enter', 'smax', 'kaden-channel', 'livedoor-homme', 'it-life-hack', 'topic-news', 'sports-watch', 'dokujo-tsushin']\n"
          ],
          "name": "stdout"
        }
      ]
    },
    {
      "cell_type": "code",
      "metadata": {
        "id": "A9BPGnm4mJua"
      },
      "source": [
        "# 本文を取得する前処理関数を定義\n",
        "\n",
        "\n",
        "def extract_main_txt(file_name):\n",
        "    with open(file_name) as text_file:\n",
        "        # 今回はタイトル行は外したいので、3要素目以降の本文のみ使用\n",
        "        text = text_file.readlines()[3:]\n",
        "\n",
        "        # 3要素目以降にも本文が入っている場合があるので、リストにして、後で結合させる\n",
        "        text = [sentence.strip() for sentence in text]  # 空白文字(スペースやタブ、改行)の削除\n",
        "        text = list(filter(lambda line: line != '', text))\n",
        "        text = ''.join(text)\n",
        "        text = text.translate(str.maketrans(\n",
        "            {'\\n': '', '\\t': '', '\\r': '', '\\u3000': ''}))  # 改行やタブ、全角スペースを消す\n",
        "        return text\n"
      ],
      "execution_count": 5,
      "outputs": []
    },
    {
      "cell_type": "code",
      "metadata": {
        "id": "A4CnfAGZmK24"
      },
      "source": [
        "# リストに前処理した本文と、カテゴリーのラベルを追加していく\n",
        "import glob\n",
        "\n",
        "list_text = []\n",
        "list_label = []\n",
        "\n",
        "for cat in categories:\n",
        "    text_files = glob.glob(os.path.join(\"./data/livedoor/text\", cat, \"*.txt\"))\n",
        "\n",
        "    # 前処理extract_main_txtを実施して本文を取得\n",
        "    body = [extract_main_txt(text_file) for text_file in text_files]\n",
        "\n",
        "    label = [cat] * len(body)  # bodyの数文だけカテゴリー名のラベルのリストを作成\n",
        "\n",
        "    list_text.extend(body)  # appendが要素を追加するのに対して、extendはリストごと追加する\n",
        "    list_label.extend(label)\n"
      ],
      "execution_count": 6,
      "outputs": []
    },
    {
      "cell_type": "code",
      "metadata": {
        "id": "KJpQoYv3mMdo",
        "colab": {
          "base_uri": "https://localhost:8080/"
        },
        "outputId": "6da72de8-dfa6-414f-81e2-dc16f758d6a6"
      },
      "source": [
        "# pandasのDataFrameにする\n",
        "import pandas as pd\n",
        "\n",
        "df = pd.DataFrame({'text': list_text, 'label': list_label})\n",
        "\n",
        "# 大きさを確認しておく（7,376文章が存在）\n",
        "print(df.shape)\n"
      ],
      "execution_count": 7,
      "outputs": [
        {
          "output_type": "stream",
          "text": [
            "(7376, 2)\n"
          ],
          "name": "stdout"
        }
      ]
    },
    {
      "cell_type": "code",
      "metadata": {
        "id": "bCyHRxKZmPiG"
      },
      "source": [
        "# カテゴリーの辞書を作成\n",
        "dic_id2cat = dict(zip(list(range(len(categories))), categories))\n",
        "dic_cat2id = dict(zip(categories, list(range(len(categories)))))\n",
        "\n",
        "# DataFrameにカテゴリーindexの列を作成\n",
        "df[\"label_index\"] = df[\"label\"].map(dic_cat2id)\n",
        "\n",
        "# label列を消去し、text, indexの順番にする\n",
        "df = df.loc[:, [\"text\", \"label_index\"]]\n"
      ],
      "execution_count": 8,
      "outputs": []
    },
    {
      "cell_type": "code",
      "metadata": {
        "id": "cl7A9wqgmT6I"
      },
      "source": [
        "# 順番をシャッフルする\n",
        "df = df.sample(frac=1, random_state=123).reset_index(drop=True)\n"
      ],
      "execution_count": 9,
      "outputs": []
    },
    {
      "cell_type": "code",
      "metadata": {
        "id": "w6SefmjxmWUg",
        "colab": {
          "base_uri": "https://localhost:8080/"
        },
        "outputId": "46a60398-a26f-42ca-9258-6a6cf225e051"
      },
      "source": [
        "# tsvファイルで保存する\n",
        "\n",
        "# 全体の2割の文章数\n",
        "len_0_2 = len(df) // 5\n",
        "\n",
        "# 前から2割をテストデータとする\n",
        "df[:len_0_2].to_csv(\"./test.tsv\", sep='\\t', index=False, header=None)\n",
        "print(df[:len_0_2].shape)\n",
        "\n",
        "# 前2割からを訓練&検証データとする\n",
        "df[len_0_2:].to_csv(\"./train_eval.tsv\", sep='\\t', index=False, header=None)\n",
        "print(df[len_0_2:].shape)\n"
      ],
      "execution_count": 10,
      "outputs": [
        {
          "output_type": "stream",
          "text": [
            "(1475, 2)\n",
            "(5901, 2)\n"
          ],
          "name": "stdout"
        }
      ]
    },
    {
      "cell_type": "code",
      "metadata": {
        "id": "Ctr9cqijmY1w"
      },
      "source": [
        "# tsvファイルをダウンロードしたい場合\n",
        "from google.colab import files\n",
        "\n",
        "# ダウンロードする場合はコメントを外す\n",
        "# 少し時間がかかる（4MB）\n",
        "# files.download(\"./test.tsv\")\n",
        "\n",
        "\n",
        "# ダウンロードする場合はコメントを外す\n",
        "# 少し時間がかかる（18MB）\n",
        "# files.download(\"./train_eval.tsv\")\n"
      ],
      "execution_count": 11,
      "outputs": []
    },
    {
      "cell_type": "markdown",
      "metadata": {
        "id": "HRpWunm7mmoq"
      },
      "source": [
        "- LivedoorニュースをBERT用のDataLoaderにする\n",
        "- Hugginfaceのリポジトリの案内とは異なり、torchtextを使用した手法で実装"
      ]
    },
    {
      "cell_type": "code",
      "metadata": {
        "id": "IQFouaGHmWXx",
        "colab": {
          "base_uri": "https://localhost:8080/"
        },
        "outputId": "fe95a9cd-1352-4af6-8cef-ec6c123a06cd"
      },
      "source": [
        "# MeCabとtransformersの用意\n",
        "!apt install aptitude swig\n",
        "!aptitude install mecab libmecab-dev mecab-ipadic-utf8 git make curl xz-utils file -y\n",
        "!pip install mecab-python3\n",
        "!pip install transformers==4.5.1\n",
        "!pip install fugashi ipadic"
      ],
      "execution_count": 12,
      "outputs": [
        {
          "output_type": "stream",
          "text": [
            "Reading package lists... Done\n",
            "Building dependency tree       \n",
            "Reading state information... Done\n",
            "aptitude is already the newest version (0.8.10-6ubuntu1).\n",
            "swig is already the newest version (3.0.12-1).\n",
            "0 upgraded, 0 newly installed, 0 to remove and 34 not upgraded.\n",
            "mecab is already installed at the requested version (0.996-5)\n",
            "libmecab-dev is already installed at the requested version (0.996-5)\n",
            "mecab-ipadic-utf8 is already installed at the requested version (2.7.0-20070801+main-1)\n",
            "git is already installed at the requested version (1:2.17.1-1ubuntu0.8)\n",
            "make is already installed at the requested version (4.1-9.1ubuntu1)\n",
            "curl is already installed at the requested version (7.58.0-2ubuntu3.13)\n",
            "xz-utils is already installed at the requested version (5.2.2-1.3)\n",
            "file is already installed at the requested version (1:5.32-2ubuntu0.4)\n",
            "mecab is already installed at the requested version (0.996-5)\n",
            "libmecab-dev is already installed at the requested version (0.996-5)\n",
            "mecab-ipadic-utf8 is already installed at the requested version (2.7.0-20070801+main-1)\n",
            "git is already installed at the requested version (1:2.17.1-1ubuntu0.8)\n",
            "make is already installed at the requested version (4.1-9.1ubuntu1)\n",
            "curl is already installed at the requested version (7.58.0-2ubuntu3.13)\n",
            "xz-utils is already installed at the requested version (5.2.2-1.3)\n",
            "file is already installed at the requested version (1:5.32-2ubuntu0.4)\n",
            "No packages will be installed, upgraded, or removed.\n",
            "0 packages upgraded, 0 newly installed, 0 to remove and 34 not upgraded.\n",
            "Need to get 0 B of archives. After unpacking 0 B will be used.\n",
            "                            \n",
            "Requirement already satisfied: mecab-python3 in /usr/local/lib/python3.7/dist-packages (1.0.3)\n",
            "Requirement already satisfied: transformers==4.5.1 in /usr/local/lib/python3.7/dist-packages (4.5.1)\n",
            "Requirement already satisfied: importlib-metadata; python_version < \"3.8\" in /usr/local/lib/python3.7/dist-packages (from transformers==4.5.1) (3.10.1)\n",
            "Requirement already satisfied: regex!=2019.12.17 in /usr/local/lib/python3.7/dist-packages (from transformers==4.5.1) (2019.12.20)\n",
            "Requirement already satisfied: sacremoses in /usr/local/lib/python3.7/dist-packages (from transformers==4.5.1) (0.0.45)\n",
            "Requirement already satisfied: tqdm>=4.27 in /usr/local/lib/python3.7/dist-packages (from transformers==4.5.1) (4.41.1)\n",
            "Requirement already satisfied: filelock in /usr/local/lib/python3.7/dist-packages (from transformers==4.5.1) (3.0.12)\n",
            "Requirement already satisfied: requests in /usr/local/lib/python3.7/dist-packages (from transformers==4.5.1) (2.23.0)\n",
            "Requirement already satisfied: packaging in /usr/local/lib/python3.7/dist-packages (from transformers==4.5.1) (20.9)\n",
            "Requirement already satisfied: tokenizers<0.11,>=0.10.1 in /usr/local/lib/python3.7/dist-packages (from transformers==4.5.1) (0.10.2)\n",
            "Requirement already satisfied: numpy>=1.17 in /usr/local/lib/python3.7/dist-packages (from transformers==4.5.1) (1.19.5)\n",
            "Requirement already satisfied: typing-extensions>=3.6.4; python_version < \"3.8\" in /usr/local/lib/python3.7/dist-packages (from importlib-metadata; python_version < \"3.8\"->transformers==4.5.1) (3.7.4.3)\n",
            "Requirement already satisfied: zipp>=0.5 in /usr/local/lib/python3.7/dist-packages (from importlib-metadata; python_version < \"3.8\"->transformers==4.5.1) (3.4.1)\n",
            "Requirement already satisfied: click in /usr/local/lib/python3.7/dist-packages (from sacremoses->transformers==4.5.1) (7.1.2)\n",
            "Requirement already satisfied: six in /usr/local/lib/python3.7/dist-packages (from sacremoses->transformers==4.5.1) (1.15.0)\n",
            "Requirement already satisfied: joblib in /usr/local/lib/python3.7/dist-packages (from sacremoses->transformers==4.5.1) (1.0.1)\n",
            "Requirement already satisfied: certifi>=2017.4.17 in /usr/local/lib/python3.7/dist-packages (from requests->transformers==4.5.1) (2020.12.5)\n",
            "Requirement already satisfied: chardet<4,>=3.0.2 in /usr/local/lib/python3.7/dist-packages (from requests->transformers==4.5.1) (3.0.4)\n",
            "Requirement already satisfied: urllib3!=1.25.0,!=1.25.1,<1.26,>=1.21.1 in /usr/local/lib/python3.7/dist-packages (from requests->transformers==4.5.1) (1.24.3)\n",
            "Requirement already satisfied: idna<3,>=2.5 in /usr/local/lib/python3.7/dist-packages (from requests->transformers==4.5.1) (2.10)\n",
            "Requirement already satisfied: pyparsing>=2.0.2 in /usr/local/lib/python3.7/dist-packages (from packaging->transformers==4.5.1) (2.4.7)\n",
            "Requirement already satisfied: fugashi in /usr/local/lib/python3.7/dist-packages (1.1.0)\n",
            "Requirement already satisfied: ipadic in /usr/local/lib/python3.7/dist-packages (1.0.0)\n"
          ],
          "name": "stdout"
        }
      ]
    },
    {
      "cell_type": "code",
      "metadata": {
        "colab": {
          "base_uri": "https://localhost:8080/"
        },
        "id": "NfE9z9zPZVQm",
        "outputId": "4fe30354-fb43-4451-ad0b-2719a5562d46"
      },
      "source": [
        "!ln -s /etc/mecabrc /usr/local/etc/mecabrc"
      ],
      "execution_count": 13,
      "outputs": [
        {
          "output_type": "stream",
          "text": [
            "ln: failed to create symbolic link '/usr/local/etc/mecabrc': File exists\n"
          ],
          "name": "stdout"
        }
      ]
    },
    {
      "cell_type": "code",
      "metadata": {
        "id": "JnF1Kqbpmr9Z"
      },
      "source": [
        "import torch\n",
        "import torchtext.legacy as torchtext  # current 0.9.1 move Fields, Examples to legacy.\n",
        "from transformers import BertModel\n",
        "from transformers import BertJapaneseTokenizer\n",
        "\n",
        "# 日本語BERTの分かち書き用tokenizerです\n",
        "tokenizer = BertJapaneseTokenizer.from_pretrained(\n",
        "    'cl-tohoku/bert-base-japanese-whole-word-masking')\n"
      ],
      "execution_count": 14,
      "outputs": []
    },
    {
      "cell_type": "code",
      "metadata": {
        "id": "g09HyOvcmt3g"
      },
      "source": [
        "# データを読み込んだときに、読み込んだ内容に対して行う処理を定義します\n",
        "\n",
        "max_length = 512  # 東北大学_日本語版の最大の単語数（サブワード数）は512\n",
        "\n",
        "\n",
        "def tokenizer_512(input_text):\n",
        "    \"\"\"torchtextのtokenizerとして扱えるように、512単語のpytorchでのencodeを定義。ここで[0]を指定し忘れないように\"\"\"\n",
        "    return tokenizer.encode(input_text, max_length=512, return_tensors='pt')[0]\n",
        "\n",
        "\n",
        "TEXT = torchtext.data.Field(sequential=True, tokenize=tokenizer_512, use_vocab=False, lower=False,\n",
        "                            include_lengths=True, batch_first=True, fix_length=max_length, pad_token=0)\n",
        "# 注意：tokenize=tokenizer.encodeと、.encodeをつけます。padding[PAD]のindexが0なので、0を指定します。\n",
        "\n",
        "LABEL = torchtext.data.Field(sequential=False, use_vocab=False)\n",
        "\n",
        "# (注釈)：各引数を再確認\n",
        "# sequential: データの長さが可変か？文章は長さがいろいろなのでTrue.ラベルはFalse\n",
        "# tokenize: 文章を読み込んだときに、前処理や単語分割をするための関数を定義\n",
        "# use_vocab：単語をボキャブラリーに追加するかどうか\n",
        "# lower：アルファベットがあったときに小文字に変換するかどうか\n",
        "# include_length: 文章の単語数のデータを保持するか\n",
        "# batch_first：ミニバッチの次元を用意するかどうか\n",
        "# fix_length：全部の文章をfix_lengthと同じ長さになるように、paddingします\n",
        "# init_token, eos_token, pad_token, unk_token：文頭、文末、padding、未知語に対して、どんな単語を与えるかを指定\n"
      ],
      "execution_count": 15,
      "outputs": []
    },
    {
      "cell_type": "code",
      "metadata": {
        "id": "wd1nnQfDmvsw",
        "colab": {
          "base_uri": "https://localhost:8080/"
        },
        "outputId": "d9d72c9a-85df-4004-94b0-1b033d1fe05b"
      },
      "source": [
        "# 各tsvファイルを読み込み、分かち書きをしてdatasetにします\n",
        "# 少し時間がかかります\n",
        "# train_eval：5901個、test：1475個\n",
        "dataset_train_eval, dataset_test = torchtext.data.TabularDataset.splits(\n",
        "    path='.', train='train_eval.tsv', test='test.tsv', format='tsv', fields=[('Text', TEXT), ('Label', LABEL)])\n",
        "\n"
      ],
      "execution_count": 16,
      "outputs": [
        {
          "output_type": "stream",
          "text": [
            "Truncation was not explicitly activated but `max_length` is provided a specific value, please use `truncation=True` to explicitly truncate examples to max length. Defaulting to 'longest_first' truncation strategy. If you encode pairs of sequences (GLUE-style) with the tokenizer you can select this strategy more precisely by providing a specific strategy to `truncation`.\n"
          ],
          "name": "stderr"
        }
      ]
    },
    {
      "cell_type": "code",
      "metadata": {
        "id": "AIG7NxComxco",
        "colab": {
          "base_uri": "https://localhost:8080/"
        },
        "outputId": "9843b1ec-62f5-49f7-db47-f4184734d10a"
      },
      "source": [
        "# torchtext.data.Datasetのsplit関数で訓練データと検証データを分ける\n",
        "# train_eval：5901個、test：1475個\n",
        "\n",
        "dataset_train, dataset_eval = dataset_train_eval.split(\n",
        "    split_ratio=1.0 - 1475/5901, random_state=random.seed(1234))\n",
        "\n",
        "# datasetの長さを確認してみる\n",
        "print(dataset_train.__len__())\n",
        "print(dataset_eval.__len__())\n",
        "print(dataset_test.__len__())\n"
      ],
      "execution_count": 17,
      "outputs": [
        {
          "output_type": "stream",
          "text": [
            "4426\n",
            "1475\n",
            "1475\n"
          ],
          "name": "stdout"
        }
      ]
    },
    {
      "cell_type": "code",
      "metadata": {
        "id": "XitKKeEgmzTp"
      },
      "source": [
        "# DataLoaderを作成します（torchtextの文脈では単純にiteraterと呼ばれています）\n",
        "batch_size = 16  # BERTでは16、32あたりを使用する\n",
        "\n",
        "dl_train = torchtext.data.Iterator(\n",
        "    dataset_train, batch_size=batch_size, train=True)\n",
        "\n",
        "dl_eval = torchtext.data.Iterator(\n",
        "    dataset_eval, batch_size=batch_size, train=False, sort=False)\n",
        "\n",
        "dl_test = torchtext.data.Iterator(\n",
        "    dataset_test, batch_size=batch_size, train=False, sort=False)\n",
        "\n",
        "# 辞書オブジェクトにまとめる\n",
        "dataloaders_dict = {\"train\": dl_train, \"val\": dl_eval}\n"
      ],
      "execution_count": 18,
      "outputs": []
    },
    {
      "cell_type": "markdown",
      "metadata": {
        "id": "ln5XJH3lm4MR"
      },
      "source": [
        "## 準備2：BERTでlivedoorニュースの記事をベクトル化する"
      ]
    },
    {
      "cell_type": "code",
      "metadata": {
        "id": "hFlvnI05a4xN",
        "colab": {
          "base_uri": "https://localhost:8080/"
        },
        "outputId": "5cd7a710-50f5-42d6-9fa4-09a47a5628f0"
      },
      "source": [
        "from transformers import BertModel\n",
        "\n",
        "# BERTの日本語学習済みパラメータのモデルです\n",
        "model = BertModel.from_pretrained('cl-tohoku/bert-base-japanese-whole-word-masking')\n",
        "model.eval()\n",
        "print('ネットワーク設定完了')\n"
      ],
      "execution_count": 19,
      "outputs": [
        {
          "output_type": "stream",
          "text": [
            "ネットワーク設定完了\n"
          ],
          "name": "stdout"
        }
      ]
    },
    {
      "cell_type": "code",
      "metadata": {
        "id": "ZNaAXgiITFiw"
      },
      "source": [
        "# BERTでベクトル化する関数を定義\n",
        "\n",
        "\n",
        "def vectorize_with_bert(net, dataloader):\n",
        "\n",
        "    # GPUが使えるかを確認\n",
        "    device = torch.device(\"cuda:0\" if torch.cuda.is_available() else \"cpu\")\n",
        "    print(\"使用デバイス：\", device)\n",
        "    print('-----start-------')\n",
        "\n",
        "    # ネットワークをGPUへ\n",
        "    net.to(device)\n",
        "\n",
        "    # ネットワークがある程度固定であれば、高速化させる\n",
        "    torch.backends.cudnn.benchmark = True\n",
        "\n",
        "    # ミニバッチのサイズ\n",
        "    batch_size = dataloader.batch_size\n",
        "\n",
        "    # データローダーからミニバッチを取り出すループ\n",
        "    for index, batch in enumerate(dataloader):\n",
        "        # batchはTextとLableの辞書オブジェクト\n",
        "        device = torch.device(\"cuda:0\" if torch.cuda.is_available() else \"cpu\")\n",
        "        inputs = batch.Text[0].to(device)  # 文章\n",
        "        labels = batch.Label.to(device)  # ラベル\n",
        "\n",
        "        # 順伝搬（forward）計算\n",
        "        with torch.set_grad_enabled(False):\n",
        "\n",
        "            # Berに入力\n",
        "            result = net(inputs)\n",
        "\n",
        "            # sequence_outputの先頭の単語ベクトルを抜き出す\n",
        "            vec_0 = result[0]  # 最初の0がsequence_outputを示す\n",
        "            vec_0 = vec_0[:, 0, :]  # 全バッチ。先頭0番目の単語の全768要素\n",
        "            vec_0 = vec_0.view(-1, 768)  # sizeを[batch_size, hidden_size]に変換\n",
        "\n",
        "            # ベクトル化したデータをtorchリストにまとめる\n",
        "            if index == 0:\n",
        "                list_text = vec_0\n",
        "                list_label = labels\n",
        "            else:\n",
        "                list_text = torch.cat([list_text, vec_0], dim=0)\n",
        "                list_label = torch.cat([list_label, labels], dim=0)\n",
        "\n",
        "    return list_text, list_label\n"
      ],
      "execution_count": 20,
      "outputs": []
    },
    {
      "cell_type": "code",
      "metadata": {
        "id": "JfnH-gAmS75e",
        "colab": {
          "base_uri": "https://localhost:8080/"
        },
        "outputId": "65fe212f-f8bf-4de5-cecb-79c9bba0254c"
      },
      "source": [
        "# DataLoaderをベクトル化版に変換\n",
        "# 少し時間がかかります5分弱\n",
        "\n",
        "list_text_train, list_label_train = vectorize_with_bert(model, dl_train)\n",
        "list_text_eval, list_label_eval = vectorize_with_bert(model, dl_eval)\n",
        "list_text_test, list_label_test = vectorize_with_bert(model, dl_test)\n"
      ],
      "execution_count": 21,
      "outputs": [
        {
          "output_type": "stream",
          "text": [
            "使用デバイス： cuda:0\n",
            "-----start-------\n",
            "使用デバイス： cuda:0\n",
            "-----start-------\n",
            "使用デバイス： cuda:0\n",
            "-----start-------\n"
          ],
          "name": "stdout"
        }
      ]
    },
    {
      "cell_type": "code",
      "metadata": {
        "id": "-Aq6sYxFF2ti"
      },
      "source": [
        "# torchのリストをDatasetに変換\n",
        "\n",
        "from torch.utils.data import TensorDataset\n",
        "\n",
        "dataset_bert_train = TensorDataset(\n",
        "    list_label_train.view(-1, 1), list_text_train)\n",
        "dataset_bert_eval = TensorDataset(list_label_eval.view(-1, 1), list_text_eval)\n",
        "dataset_bert_test = TensorDataset(list_label_test.view(-1, 1), list_text_test)\n"
      ],
      "execution_count": 22,
      "outputs": []
    },
    {
      "cell_type": "code",
      "metadata": {
        "id": "ktNKYU_XK_3T"
      },
      "source": [
        "# Dataloaderにする\n",
        "from torch.utils.data import DataLoader\n",
        "\n",
        "batch_size = 1024\n",
        "\n",
        "dl_bert_train = DataLoader(\n",
        "    dataset_bert_train, batch_size=batch_size, shuffle=True, drop_last=True)\n",
        "# drop_lastは最後のミニバッチがbatch_sizeに足りない場合は無視する\n",
        "\n",
        "dl_bert_eval = DataLoader(\n",
        "    dataset_bert_eval, batch_size=batch_size, shuffle=False)\n",
        "dl_bert_test = DataLoader(\n",
        "    dataset_bert_test, batch_size=batch_size, shuffle=False)\n"
      ],
      "execution_count": 23,
      "outputs": []
    },
    {
      "cell_type": "markdown",
      "metadata": {
        "id": "aGA7Tm-CMHs1"
      },
      "source": [
        "## 準備3：IICのディープラーニングモデルを用意"
      ]
    },
    {
      "cell_type": "code",
      "metadata": {
        "id": "5pgI08SsMJ-y"
      },
      "source": [
        "import torch.nn as nn\n",
        "import torch.nn.functional as F\n",
        "\n",
        "OVER_CLUSTRING_RATE = 10\n",
        "\n",
        "\n",
        "class NetIIC(nn.Module):\n",
        "    def __init__(self):\n",
        "        super(NetIIC, self).__init__()\n",
        "\n",
        "        # multi-headは今回しない\n",
        "        self.conv1 = nn.Conv1d(1, 400, kernel_size=768, stride=1, padding=0)\n",
        "        self.bn1 = nn.BatchNorm1d(400)\n",
        "        self.conv2 = nn.Conv1d(1, 300, kernel_size=400, stride=1, padding=0)\n",
        "        self.bn2 = nn.BatchNorm1d(300)\n",
        "        self.conv3 = nn.Conv1d(1, 300, kernel_size=300, stride=1, padding=0)\n",
        "        self.bn3 = nn.BatchNorm1d(300)\n",
        "\n",
        "        self.fc1 = nn.Linear(300, 250)\n",
        "        self.bnfc1 = nn.BatchNorm1d(250)\n",
        "\n",
        "        # livedoorニュースの9カテゴリに対応するかな？と期待する9分類\n",
        "        self.fc2 = nn.Linear(250, 9)\n",
        "\n",
        "        # overclustering\n",
        "        # 実際の想定よりも多めにクラスタリングさせることで、ネットワークで微細な変化を捉えられるようにする\n",
        "        self.fc2_overclustering = nn.Linear(250, 9*OVER_CLUSTRING_RATE)\n",
        "\n",
        "    def forward(self, x):\n",
        "        x = x.view(x.size(0), 1, -1)\n",
        "        x = F.relu(self.bn1(self.conv1(x)))\n",
        "\n",
        "        x = x.view(x.size(0), 1, -1)\n",
        "        x = F.relu(self.bn2(self.conv2(x)))\n",
        "\n",
        "        x = x.view(x.size(0), 1, -1)\n",
        "        x = F.relu(self.bn3(self.conv3(x)))\n",
        "\n",
        "        x = x.view(x.size(0), -1)\n",
        "        x_prefinal = F.relu(self.bnfc1(self.fc1(x)))\n",
        "\n",
        "        # multi-headは使わず\n",
        "        y = F.softmax(self.fc2(x_prefinal), dim=1)\n",
        "        y_overclustering = F.softmax(self.fc2_overclustering(\n",
        "            x_prefinal), dim=1)  # overclustering\n",
        "\n",
        "        return y, y_overclustering\n"
      ],
      "execution_count": 24,
      "outputs": []
    },
    {
      "cell_type": "code",
      "metadata": {
        "id": "YGKmdx0Ux112"
      },
      "source": [
        "import torch.nn.init as init\n",
        "\n",
        "\n",
        "def weight_init(m):\n",
        "    \"\"\"重み初期化\"\"\"\n",
        "    if isinstance(m, nn.Conv1d):\n",
        "        init.normal_(m.weight.data)\n",
        "        if m.bias is not None:\n",
        "            init.normal_(m.bias.data)\n",
        "    elif isinstance(m, nn.BatchNorm1d):\n",
        "        init.normal_(m.weight.data, mean=1, std=0.02)\n",
        "        init.constant_(m.bias.data, 0)\n",
        "    elif isinstance(m, nn.Linear):\n",
        "        # Xavier\n",
        "        # init.xavier_normal_(m.weight.data)\n",
        "\n",
        "        # He\n",
        "        init.kaiming_normal_(m.weight.data)\n",
        "\n",
        "        if m.bias is not None:\n",
        "            init.normal_(m.bias.data)\n"
      ],
      "execution_count": 25,
      "outputs": []
    },
    {
      "cell_type": "code",
      "metadata": {
        "id": "rnVaLHowOR_S"
      },
      "source": [
        "# IISによる損失関数の定義\n",
        "# 参考：https://github.com/RuABraun/phone-clustering/blob/master/mnist_basic.py\n",
        "import sys\n",
        "\n",
        "\n",
        "def compute_joint(x_out, x_tf_out):\n",
        "    bn, k = x_out.size()\n",
        "    assert (x_tf_out.size(0) == bn and x_tf_out.size(1) == k), '{} {} {} {}'.format(\n",
        "        bn, k, x_tf_out.size(0), x_tf_out.size(1))\n",
        "\n",
        "    p_i_j = x_out.unsqueeze(2) * x_tf_out.unsqueeze(1)  # bn, k, k\n",
        "    p_i_j = p_i_j.sum(dim=0)  # k, k\n",
        "    p_i_j = (p_i_j + p_i_j.t()) / 2.  # symmetrise\n",
        "    p_i_j = p_i_j / p_i_j.sum()  # normalise\n",
        "    return p_i_j\n",
        "\n",
        "\n",
        "def IID_loss(x_out, x_tf_out, EPS=sys.float_info.epsilon):\n",
        "    # has had softmax applied\n",
        "    bs, k = x_out.size()\n",
        "    p_i_j = compute_joint(x_out, x_tf_out)\n",
        "    assert (p_i_j.size() == (k, k))\n",
        "\n",
        "    p_i = p_i_j.sum(dim=1).view(k, 1).expand(k, k)\n",
        "    p_j = p_i_j.sum(dim=0).view(1, k).expand(k, k)\n",
        "\n",
        "    # avoid NaN losses. Effect will get cancelled out by p_i_j tiny anyway\n",
        "    # これはPyTorchのバージョン1.3以上だとエラーになる\n",
        "    # https://discuss.pytorch.org/t/pytorch-1-3-showing-an-error-perhaps-for-loss-computed-from-paired-outputs/68790/3\n",
        "    #p_i_j[(p_i_j < EPS).data] = EPS\n",
        "    #p_j[(p_j < EPS).data] = EPS\n",
        "    #p_i[(p_i < EPS).data] = EPS\n",
        "\n",
        "    p_i_j = torch.where(p_i_j < EPS, torch.tensor(\n",
        "        [EPS], device=p_i_j.device), p_i_j)\n",
        "    p_j = torch.where(p_j < EPS, torch.tensor([EPS], device=p_j.device), p_j)\n",
        "    p_i = torch.where(p_i < EPS, torch.tensor([EPS], device=p_i.device), p_i)\n",
        "\n",
        "    # https://qiita.com/Amanokawa/items/0aa24bc396dd88fb7d2a\n",
        "    # 参考に、重みalphaを追加\n",
        "\n",
        "    alpha = 2.0\n",
        "    loss = (- p_i_j * (torch.log(p_i_j) - alpha *\n",
        "                       torch.log(p_j) - alpha*torch.log(p_i))).sum()\n",
        "\n",
        "    return loss\n"
      ],
      "execution_count": 26,
      "outputs": []
    },
    {
      "cell_type": "code",
      "metadata": {
        "id": "rbX7HxheOWIp"
      },
      "source": [
        "# データにノイズを加える関数の定義\n",
        "device = 'cuda' if torch.cuda.is_available() else 'cpu'\n",
        "tensor_std = list_text_train.std(dim=0).to(device)\n",
        "\n",
        "\n",
        "def perturb_data(x):\n",
        "    y = x.clone()\n",
        "    noise = torch.randn(len(tensor_std)).to(device)*tensor_std*2.0\n",
        "    noise = noise.expand(x.shape[0], -1)\n",
        "    y += noise\n",
        "\n",
        "    return y\n"
      ],
      "execution_count": 27,
      "outputs": []
    },
    {
      "cell_type": "markdown",
      "metadata": {
        "id": "Mt1jf4xAz0r4"
      },
      "source": [
        "## 4：IICのネットワークを学習させる"
      ]
    },
    {
      "cell_type": "code",
      "metadata": {
        "id": "Em2zsT9jOSDC"
      },
      "source": [
        "# 学習関数の定義\n",
        "\n",
        "def train(total_epoch, model, train_loader, optimizer, device):\n",
        "\n",
        "    # ネットワークを訓練モードに\n",
        "    model.train()\n",
        "\n",
        "    # 学習率のスケジューラーCosAnnealing\n",
        "    scheduler = torch.optim.lr_scheduler.CosineAnnealingWarmRestarts(\n",
        "        optimizer, T_0=2, T_mult=2, eta_min=0)\n",
        "\n",
        "    for epoch in range(total_epoch):\n",
        "        for batch_idx, (target, data) in enumerate(train_loader):\n",
        "\n",
        "            # 学習率変化\n",
        "            scheduler.step()\n",
        "            \n",
        "            data_perturb = perturb_data(data)  # ノイズを与え、変換したデータを作る\n",
        "\n",
        "            # GPUに送れる場合は送る\n",
        "            data = data.to(device)\n",
        "            data_perturb = data_perturb.to(device)\n",
        "\n",
        "            # 最適化関数の初期化\n",
        "            optimizer.zero_grad()\n",
        "\n",
        "            # ニューラルネットワークへ入れる\n",
        "            output, output_overclustering = model(data)\n",
        "            output_perturb, output_perturb_overclustering = model(data_perturb)\n",
        "\n",
        "            # 損失の計算\n",
        "            loss1 = IID_loss(output, output_perturb)\n",
        "            loss2 = IID_loss(output_overclustering,\n",
        "                             output_perturb_overclustering)\n",
        "            loss = loss1 + loss2\n",
        "\n",
        "            # 損失を減らすように更新\n",
        "            loss.backward()\n",
        "            optimizer.step()\n",
        "\n",
        "        # ログ出力\n",
        "        if epoch % 50 == 0:\n",
        "            print('Train Epoch {} \\tLoss1: {:.6f} \\tLoss2: {:.6f} \\tLoss_total: {:.6f}'.format(\n",
        "                epoch, loss1.item(), loss2.item(), loss1.item()+loss2.item()))\n",
        "\n",
        "    return model, optimizer\n"
      ],
      "execution_count": 28,
      "outputs": []
    },
    {
      "cell_type": "code",
      "metadata": {
        "id": "yNVviRq-0-wH",
        "colab": {
          "base_uri": "https://localhost:8080/"
        },
        "outputId": "7f851e6b-f8de-4944-de15-ae8910cb141b"
      },
      "source": [
        "# 学習の実施(5分弱)\n",
        "\n",
        "# モデルの用意\n",
        "net = NetIIC()\n",
        "net.apply(weight_init)\n",
        "net.to(device)\n",
        "\n",
        "# 最適化関数\n",
        "optimizer = torch.optim.Adam(net.parameters(), lr=5e-4) \n",
        "\n",
        "total_epoch = 1000\n",
        "\n",
        "model_trained, optimizer = train(\n",
        "    total_epoch, net, dl_bert_train, optimizer, device)\n"
      ],
      "execution_count": 29,
      "outputs": [
        {
          "output_type": "stream",
          "text": [
            "Train Epoch 0 \tLoss1: -3.943261 \tLoss2: -7.732243 \tLoss_total: -11.675503\n",
            "Train Epoch 50 \tLoss1: -6.143390 \tLoss2: -10.210949 \tLoss_total: -16.354339\n",
            "Train Epoch 100 \tLoss1: -6.487886 \tLoss2: -11.181625 \tLoss_total: -17.669512\n",
            "Train Epoch 150 \tLoss1: -6.539138 \tLoss2: -11.797247 \tLoss_total: -18.336385\n",
            "Train Epoch 200 \tLoss1: -6.550503 \tLoss2: -12.431877 \tLoss_total: -18.982380\n",
            "Train Epoch 250 \tLoss1: -6.557390 \tLoss2: -12.567236 \tLoss_total: -19.124626\n",
            "Train Epoch 300 \tLoss1: -6.555585 \tLoss2: -13.175591 \tLoss_total: -19.731176\n",
            "Train Epoch 350 \tLoss1: -6.564304 \tLoss2: -13.197260 \tLoss_total: -19.761564\n",
            "Train Epoch 400 \tLoss1: -6.545244 \tLoss2: -13.189154 \tLoss_total: -19.734397\n",
            "Train Epoch 450 \tLoss1: -6.562121 \tLoss2: -13.190464 \tLoss_total: -19.752585\n",
            "Train Epoch 500 \tLoss1: -6.559155 \tLoss2: -13.162882 \tLoss_total: -19.722037\n",
            "Train Epoch 550 \tLoss1: -6.567320 \tLoss2: -13.172867 \tLoss_total: -19.740187\n",
            "Train Epoch 600 \tLoss1: -6.549450 \tLoss2: -13.157639 \tLoss_total: -19.707088\n",
            "Train Epoch 650 \tLoss1: -6.575641 \tLoss2: -13.239104 \tLoss_total: -19.814745\n",
            "Train Epoch 700 \tLoss1: -6.566517 \tLoss2: -13.254410 \tLoss_total: -19.820927\n",
            "Train Epoch 750 \tLoss1: -6.575731 \tLoss2: -13.265190 \tLoss_total: -19.840921\n",
            "Train Epoch 800 \tLoss1: -6.580940 \tLoss2: -13.303181 \tLoss_total: -19.884120\n",
            "Train Epoch 850 \tLoss1: -6.568510 \tLoss2: -13.231783 \tLoss_total: -19.800293\n",
            "Train Epoch 900 \tLoss1: -6.550634 \tLoss2: -13.196095 \tLoss_total: -19.746729\n",
            "Train Epoch 950 \tLoss1: -6.567630 \tLoss2: -13.207717 \tLoss_total: -19.775347\n"
          ],
          "name": "stdout"
        }
      ]
    },
    {
      "cell_type": "code",
      "metadata": {
        "id": "EdxKZzijT5PG"
      },
      "source": [
        "# モデル分類のクラスターの結果を確認する\n",
        "import numpy as np\n",
        "\n",
        "# ミニバッチサイズ1のテスト用のDataLoaderを用意\n",
        "dl_bert_test = DataLoader(\n",
        "    dataset_bert_test, batch_size=1, shuffle=False)\n",
        "\n",
        "\n",
        "def test(model, device, test_loader):\n",
        "    model.eval()\n",
        "\n",
        "    out_targs = []\n",
        "    ref_targs = []\n",
        "\n",
        "    # 出力用のリストを用意\n",
        "    total_num = len(test_loader)\n",
        "    # index, (target_label, inferenced_label)\n",
        "    output_list = np.zeros((total_num, 2))\n",
        "\n",
        "    with torch.no_grad():\n",
        "        for batch_idx, (target, data) in enumerate(test_loader):\n",
        "            data = data.to(device)\n",
        "            target = target.to(device)\n",
        "            outputs, outputs_overclustering = model(data)\n",
        "\n",
        "            # 分類結果をリストに追加\n",
        "            out_targs.append(outputs.argmax(dim=1).cpu())\n",
        "            ref_targs.append(target[0].cpu())\n",
        "\n",
        "            # 結果をリストにまとめる\n",
        "            output_list[batch_idx, 0] = target[0][0].cpu()  # 正解ラベル\n",
        "            output_list[batch_idx, 1] = outputs.argmax(dim=1).cpu()  # 予測ラベル\n",
        "\n",
        "    out_targs = torch.cat(out_targs)\n",
        "    ref_targs = torch.cat(ref_targs)\n",
        "\n",
        "    return out_targs.view(-1, 1).numpy(), ref_targs.numpy(), output_list\n"
      ],
      "execution_count": 30,
      "outputs": []
    },
    {
      "cell_type": "code",
      "metadata": {
        "id": "jpX0jnIRBmsT"
      },
      "source": [
        "# テストデータで推論を実施\n",
        "out_targs, ref_targs, output_list = test(model_trained, device, dl_bert_test)\n"
      ],
      "execution_count": 31,
      "outputs": []
    },
    {
      "cell_type": "code",
      "metadata": {
        "id": "-F0HrySbC_RI",
        "colab": {
          "base_uri": "https://localhost:8080/"
        },
        "outputId": "4cfbc8c4-0605-4087-c46d-e77cd7f0a4d9"
      },
      "source": [
        "# 混同行列（的な）を作る\n",
        "matrix = np.zeros((9, 9))\n",
        "\n",
        "# 縦にlivedoorニュースの正解クラスを、横に判定されたクラスの頻度表を作成\n",
        "for i in range(len(out_targs)):\n",
        "    row = ref_targs[i]\n",
        "    col = out_targs[i]\n",
        "    matrix[row][col] += 1\n",
        "\n",
        "np.set_printoptions(suppress=True)\n",
        "print(matrix)\n"
      ],
      "execution_count": 32,
      "outputs": [
        {
          "output_type": "stream",
          "text": [
            "[[  7.  11.   3.   3.  71.  10.  37.   2.  34.]\n",
            " [  7. 132.   0.   3.   3.   3.   4.  18.   4.]\n",
            " [  8.   1.   6. 100.   5.   3.  32.   0.   0.]\n",
            " [ 65.   0.  27.   8.  14.  31.  20.   3.   4.]\n",
            " [  8.   2.   7.   7.  40.   4.  19.   1.  14.]\n",
            " [ 21.   1.  30.  40.  22.  12.  40.   7.   3.]\n",
            " [ 39.   1.   0.   0.   1.  39.   1.  76.   0.]\n",
            " [ 62.   0.   0.   0.   0.  27.   0.  94.   0.]\n",
            " [  1.   5.   0.   0.  24.   2.   2.   3. 141.]]\n"
          ],
          "name": "stdout"
        }
      ]
    },
    {
      "cell_type": "code",
      "metadata": {
        "id": "4VOxWCCG4VM5",
        "colab": {
          "base_uri": "https://localhost:8080/"
        },
        "outputId": "36a5837c-4f1a-4bee-88d6-1c7a30e6ed77"
      },
      "source": [
        "dic_id2cat\n"
      ],
      "execution_count": 33,
      "outputs": [
        {
          "output_type": "execute_result",
          "data": {
            "text/plain": [
              "{0: 'peachy',\n",
              " 1: 'movie-enter',\n",
              " 2: 'smax',\n",
              " 3: 'kaden-channel',\n",
              " 4: 'livedoor-homme',\n",
              " 5: 'it-life-hack',\n",
              " 6: 'topic-news',\n",
              " 7: 'sports-watch',\n",
              " 8: 'dokujo-tsushin'}"
            ]
          },
          "metadata": {
            "tags": []
          },
          "execution_count": 33
        }
      ]
    },
    {
      "cell_type": "code",
      "metadata": {
        "id": "uCc4YyVLH3JW",
        "colab": {
          "base_uri": "https://localhost:8080/",
          "height": 195
        },
        "outputId": "fea48a5b-6862-49ca-c682-fa8db010a564"
      },
      "source": [
        "# クラスタの結果を確認\n",
        "#「sports-watch」の5番目のクラスタの文章、7番目のクラスタの文章\n",
        "#「topic-news」の5番目のクラスタの文章、7番目のクラスタの文章\n",
        "# を確認して、クラスタ5とクラスタ7の特徴を見てみます。\n",
        "\n",
        "import pandas as pd\n",
        "\n",
        "df2 = pd.DataFrame(output_list)\n",
        "df2.columns=[\"正解クラス\", \"推定クラスタ\"]\n",
        "df2.head()"
      ],
      "execution_count": 34,
      "outputs": [
        {
          "output_type": "execute_result",
          "data": {
            "text/html": [
              "<div>\n",
              "<style scoped>\n",
              "    .dataframe tbody tr th:only-of-type {\n",
              "        vertical-align: middle;\n",
              "    }\n",
              "\n",
              "    .dataframe tbody tr th {\n",
              "        vertical-align: top;\n",
              "    }\n",
              "\n",
              "    .dataframe thead th {\n",
              "        text-align: right;\n",
              "    }\n",
              "</style>\n",
              "<table border=\"1\" class=\"dataframe\">\n",
              "  <thead>\n",
              "    <tr style=\"text-align: right;\">\n",
              "      <th></th>\n",
              "      <th>正解クラス</th>\n",
              "      <th>推定クラスタ</th>\n",
              "    </tr>\n",
              "  </thead>\n",
              "  <tbody>\n",
              "    <tr>\n",
              "      <th>0</th>\n",
              "      <td>5.0</td>\n",
              "      <td>6.0</td>\n",
              "    </tr>\n",
              "    <tr>\n",
              "      <th>1</th>\n",
              "      <td>6.0</td>\n",
              "      <td>0.0</td>\n",
              "    </tr>\n",
              "    <tr>\n",
              "      <th>2</th>\n",
              "      <td>3.0</td>\n",
              "      <td>0.0</td>\n",
              "    </tr>\n",
              "    <tr>\n",
              "      <th>3</th>\n",
              "      <td>6.0</td>\n",
              "      <td>7.0</td>\n",
              "    </tr>\n",
              "    <tr>\n",
              "      <th>4</th>\n",
              "      <td>5.0</td>\n",
              "      <td>4.0</td>\n",
              "    </tr>\n",
              "  </tbody>\n",
              "</table>\n",
              "</div>"
            ],
            "text/plain": [
              "   正解クラス  推定クラスタ\n",
              "0    5.0     6.0\n",
              "1    6.0     0.0\n",
              "2    3.0     0.0\n",
              "3    6.0     7.0\n",
              "4    5.0     4.0"
            ]
          },
          "metadata": {
            "tags": []
          },
          "execution_count": 34
        }
      ]
    },
    {
      "cell_type": "code",
      "metadata": {
        "id": "UMeY6zIIKpPT",
        "colab": {
          "base_uri": "https://localhost:8080/",
          "height": 195
        },
        "outputId": "590fd677-66a2-44cd-a17c-1abccead704b"
      },
      "source": [
        "df2[(df2['正解クラス']==0) & (df2['推定クラスタ']==5)].head()"
      ],
      "execution_count": 35,
      "outputs": [
        {
          "output_type": "execute_result",
          "data": {
            "text/html": [
              "<div>\n",
              "<style scoped>\n",
              "    .dataframe tbody tr th:only-of-type {\n",
              "        vertical-align: middle;\n",
              "    }\n",
              "\n",
              "    .dataframe tbody tr th {\n",
              "        vertical-align: top;\n",
              "    }\n",
              "\n",
              "    .dataframe thead th {\n",
              "        text-align: right;\n",
              "    }\n",
              "</style>\n",
              "<table border=\"1\" class=\"dataframe\">\n",
              "  <thead>\n",
              "    <tr style=\"text-align: right;\">\n",
              "      <th></th>\n",
              "      <th>正解クラス</th>\n",
              "      <th>推定クラスタ</th>\n",
              "    </tr>\n",
              "  </thead>\n",
              "  <tbody>\n",
              "    <tr>\n",
              "      <th>180</th>\n",
              "      <td>0.0</td>\n",
              "      <td>5.0</td>\n",
              "    </tr>\n",
              "    <tr>\n",
              "      <th>646</th>\n",
              "      <td>0.0</td>\n",
              "      <td>5.0</td>\n",
              "    </tr>\n",
              "    <tr>\n",
              "      <th>703</th>\n",
              "      <td>0.0</td>\n",
              "      <td>5.0</td>\n",
              "    </tr>\n",
              "    <tr>\n",
              "      <th>792</th>\n",
              "      <td>0.0</td>\n",
              "      <td>5.0</td>\n",
              "    </tr>\n",
              "    <tr>\n",
              "      <th>812</th>\n",
              "      <td>0.0</td>\n",
              "      <td>5.0</td>\n",
              "    </tr>\n",
              "  </tbody>\n",
              "</table>\n",
              "</div>"
            ],
            "text/plain": [
              "     正解クラス  推定クラスタ\n",
              "180    0.0     5.0\n",
              "646    0.0     5.0\n",
              "703    0.0     5.0\n",
              "792    0.0     5.0\n",
              "812    0.0     5.0"
            ]
          },
          "metadata": {
            "tags": []
          },
          "execution_count": 35
        }
      ]
    },
    {
      "cell_type": "code",
      "metadata": {
        "id": "8cZdu5D-MClM",
        "colab": {
          "base_uri": "https://localhost:8080/"
        },
        "outputId": "07c339fc-b0bb-45ef-8b39-b208c48c5c5f"
      },
      "source": [
        "# dfに元文書を入れている。300文字ほど見る。\n",
        "print(df.iloc[21, 0][:300])\n",
        "print(df.iloc[59, 0][:300])\n"
      ],
      "execution_count": 36,
      "outputs": [
        {
          "output_type": "stream",
          "text": [
            "Peachyでも大人気の「恋愛」をテーマにした記事の週間ランキングです！2012年5月24日〜5月30日の間にPeachyのアプリでみんなが読んだ恋愛記事TOP5をお届けします。第1位：職業がエロい、Ｆカップ…男友達に自慢したくなる彼女の特徴7選彼氏の男友達に紹介してもらえると、彼女としてひとつハードルを越えた気がしますよね。でも、なかなか紹介してもらえないと、「都合のいい女」の可能性がグッと上がります。彼氏が男友達に自慢したく彼女とは、いったいどんな女なのでしょうか。男性に本音で語ってもらいました。第2位：これだけは言わないで！男を幻滅させちゃう女のNG発言5つなぜ、あの人はあんなにモテるの\n",
            "クリスマスシーズン到来！1年頑張った自分へのご褒美にプレゼントを、と考えている女子も多いはず！でも、この不況の中で外出も少なくなった今に、憧れのバッグや洋服はちょっと？と疑問の声も。そんな女子達に注目を浴びているのが、お部屋で“キレイ”を提供してくれるマジックボールなのです。神田うのさんの結婚式での引き出物として、スマッシュヒットとなったこのアイテム。現在でも、テレビドラマや関西空港のラウンジといった、上質空間で使用されており、ワンランク上の洗練度あふれるグッズとして人気は高まるばかり。その人気の秘密は、女子の心をくすぐるデザイン性と充実の機能から。デザインは、キュートな球体のフォルム。テーブ\n"
          ],
          "name": "stdout"
        }
      ]
    },
    {
      "cell_type": "code",
      "metadata": {
        "id": "inah7FkKOjGD",
        "colab": {
          "base_uri": "https://localhost:8080/",
          "height": 106
        },
        "outputId": "9b1f41f8-1374-456e-ea46-ee9ebc4393d0"
      },
      "source": [
        "df2[(df2['正解クラス']==0) & (df2['推定クラスタ']==7)].head(2)"
      ],
      "execution_count": 37,
      "outputs": [
        {
          "output_type": "execute_result",
          "data": {
            "text/html": [
              "<div>\n",
              "<style scoped>\n",
              "    .dataframe tbody tr th:only-of-type {\n",
              "        vertical-align: middle;\n",
              "    }\n",
              "\n",
              "    .dataframe tbody tr th {\n",
              "        vertical-align: top;\n",
              "    }\n",
              "\n",
              "    .dataframe thead th {\n",
              "        text-align: right;\n",
              "    }\n",
              "</style>\n",
              "<table border=\"1\" class=\"dataframe\">\n",
              "  <thead>\n",
              "    <tr style=\"text-align: right;\">\n",
              "      <th></th>\n",
              "      <th>正解クラス</th>\n",
              "      <th>推定クラスタ</th>\n",
              "    </tr>\n",
              "  </thead>\n",
              "  <tbody>\n",
              "    <tr>\n",
              "      <th>973</th>\n",
              "      <td>0.0</td>\n",
              "      <td>7.0</td>\n",
              "    </tr>\n",
              "    <tr>\n",
              "      <th>1248</th>\n",
              "      <td>0.0</td>\n",
              "      <td>7.0</td>\n",
              "    </tr>\n",
              "  </tbody>\n",
              "</table>\n",
              "</div>"
            ],
            "text/plain": [
              "      正解クラス  推定クラスタ\n",
              "973     0.0     7.0\n",
              "1248    0.0     7.0"
            ]
          },
          "metadata": {
            "tags": []
          },
          "execution_count": 37
        }
      ]
    },
    {
      "cell_type": "code",
      "metadata": {
        "id": "Pmyvw1rIOo9h",
        "colab": {
          "base_uri": "https://localhost:8080/"
        },
        "outputId": "e2e2cef9-5945-4460-a12f-95855ff800de"
      },
      "source": [
        "# dfに元文書を入れている。300文字ほど見る。\n",
        "print(df.iloc[14, 0][:300])\n",
        "print(df.iloc[18, 0][:300])"
      ],
      "execution_count": 38,
      "outputs": [
        {
          "output_type": "stream",
          "text": [
            "司法試験と並ぶ難関の国家試験で、好不況にかかわらず高い人気を誇る公認会計士というお仕事。今回、お茶の水女子大学在学中に公認会計士の資格を取得し、現在では経営コンサルタントとして様々なセミナーなどで講師としてもご活躍中の平林亮子さんに、会計士のお仕事内容を伺いました。「やっぱり“資格”だと思った」と話す平林さんが教える、成功の秘訣とは？——公認会計士になろうと思ったきっかけは？平林亮子（以下、平林）：入り口としてはすごく単純で、やっぱり“資格”かなと思ったからですね。何の資格？となった時に、色々な資格を並べてみた中から父が「会計士がいいんじゃない？」と言ったんですよ。色々な所で、このエピソードを\n",
            "こだわりぬいた素材を、シェフの華麗な手さばきと共に味わう事ができる鉄板焼「恵比寿」。ウェスティンホテル東京の敷地内にあり、連日国内外から多くの人々が訪れ、美しい料理に舌鼓を打っています。そんな、「恵比寿」で弱冠22歳という若さで活躍している美人シェフが鴨田萌子さんです。今回は、シェフスタイルが凛々しい鴨田さんにお仕事を始めたきっかけ、様々な出会いについてお話を伺いました。「いつか料理のお仕事に就きたい…」と考えている女子は必読です！——現在、鴨田さんは毎晩お客様の前に立って腕を振るっていますが、料理を作ることに興味を持ったきっかけは何でしたか？鴨田：小さい頃から、人に喜んでもらうことが大好きで\n"
          ],
          "name": "stdout"
        }
      ]
    },
    {
      "cell_type": "code",
      "metadata": {
        "id": "j38ZwfvuO3lC",
        "colab": {
          "base_uri": "https://localhost:8080/",
          "height": 106
        },
        "outputId": "df74af84-6aaa-4f0c-b7b7-29eb8a1a2a5b"
      },
      "source": [
        "df2[(df2['正解クラス']==8) & (df2['推定クラスタ']==5)].head(2)"
      ],
      "execution_count": 39,
      "outputs": [
        {
          "output_type": "execute_result",
          "data": {
            "text/html": [
              "<div>\n",
              "<style scoped>\n",
              "    .dataframe tbody tr th:only-of-type {\n",
              "        vertical-align: middle;\n",
              "    }\n",
              "\n",
              "    .dataframe tbody tr th {\n",
              "        vertical-align: top;\n",
              "    }\n",
              "\n",
              "    .dataframe thead th {\n",
              "        text-align: right;\n",
              "    }\n",
              "</style>\n",
              "<table border=\"1\" class=\"dataframe\">\n",
              "  <thead>\n",
              "    <tr style=\"text-align: right;\">\n",
              "      <th></th>\n",
              "      <th>正解クラス</th>\n",
              "      <th>推定クラスタ</th>\n",
              "    </tr>\n",
              "  </thead>\n",
              "  <tbody>\n",
              "    <tr>\n",
              "      <th>921</th>\n",
              "      <td>8.0</td>\n",
              "      <td>5.0</td>\n",
              "    </tr>\n",
              "    <tr>\n",
              "      <th>1058</th>\n",
              "      <td>8.0</td>\n",
              "      <td>5.0</td>\n",
              "    </tr>\n",
              "  </tbody>\n",
              "</table>\n",
              "</div>"
            ],
            "text/plain": [
              "      正解クラス  推定クラスタ\n",
              "921     8.0     5.0\n",
              "1058    8.0     5.0"
            ]
          },
          "metadata": {
            "tags": []
          },
          "execution_count": 39
        }
      ]
    },
    {
      "cell_type": "code",
      "metadata": {
        "id": "s_EFqTeyPCwy",
        "colab": {
          "base_uri": "https://localhost:8080/"
        },
        "outputId": "8bcfa56d-7d58-43fe-f58f-ccf650c175c6"
      },
      "source": [
        "# dfに元文書を入れている。300文字ほど見る。\n",
        "print(df.iloc[7, 0][:300])\n",
        "print(df.iloc[55, 0][:300])"
      ],
      "execution_count": 40,
      "outputs": [
        {
          "output_type": "stream",
          "text": [
            "「目は口ほどにモノを言う」という言葉もあるように、目は重要なパーツであると同時に女子にとってもメイクに一番気合いが入るところ。最近ではまつ毛エクステも人気なのだが、つい欲張って“盛り”すぎちゃったり、クレンジング剤が限られてしまったりと、やはり塗るマスカラの使い勝手の良さにはかないません。そこで、デジャヴュが運営するサイト『シーン別まつげメイク塾』【PC版】【モバイル版】を実践してみました。『シーン別まつげメイク塾』では基本編「まつげメイクとは？」と、「浴衣」や「就活」、「合コン」とシーン別に分かれた応用編があり、誰でも楽しくマスカラメークを学ぶことができます。「夕方にはパンダ目になっちゃう」\n",
            "6月に放映されたフジテレビ系バラエティ番組『人志松本のすべらない話』で、千原ジュニアが披露した「木村祐一兄さん」という話が、ネットを中心に話題になったのをご存じだろうか？その話とは、ジュニアと木村祐一が深夜に女性をナンパし、女性は木村祐一の家についてきた。木村祐一は当然その女性が“その気がある”と思ったが、当の女性は“そんなつもり”じゃなかった。それに激怒した木村祐一は、その女性に「帰れ！」と言いながら冷凍された鶏肉を投げつけた……というものである。ネットでは木村祐一の行為が「傷害罪だろ」「千原もなんでそんな話を面白おかしくできるのか」「これをOAしたテレビもおかしい」等、批難が殺到した。もち\n"
          ],
          "name": "stdout"
        }
      ]
    },
    {
      "cell_type": "code",
      "metadata": {
        "id": "Tc6hzsl4PC1J",
        "colab": {
          "base_uri": "https://localhost:8080/",
          "height": 106
        },
        "outputId": "1e0905c4-6a9a-4469-f3d4-a7c3c50cbfda"
      },
      "source": [
        "df2[(df2['正解クラス']==8) & (df2['推定クラスタ']==7)].head(2)"
      ],
      "execution_count": 41,
      "outputs": [
        {
          "output_type": "execute_result",
          "data": {
            "text/html": [
              "<div>\n",
              "<style scoped>\n",
              "    .dataframe tbody tr th:only-of-type {\n",
              "        vertical-align: middle;\n",
              "    }\n",
              "\n",
              "    .dataframe tbody tr th {\n",
              "        vertical-align: top;\n",
              "    }\n",
              "\n",
              "    .dataframe thead th {\n",
              "        text-align: right;\n",
              "    }\n",
              "</style>\n",
              "<table border=\"1\" class=\"dataframe\">\n",
              "  <thead>\n",
              "    <tr style=\"text-align: right;\">\n",
              "      <th></th>\n",
              "      <th>正解クラス</th>\n",
              "      <th>推定クラスタ</th>\n",
              "    </tr>\n",
              "  </thead>\n",
              "  <tbody>\n",
              "    <tr>\n",
              "      <th>49</th>\n",
              "      <td>8.0</td>\n",
              "      <td>7.0</td>\n",
              "    </tr>\n",
              "    <tr>\n",
              "      <th>55</th>\n",
              "      <td>8.0</td>\n",
              "      <td>7.0</td>\n",
              "    </tr>\n",
              "  </tbody>\n",
              "</table>\n",
              "</div>"
            ],
            "text/plain": [
              "    正解クラス  推定クラスタ\n",
              "49    8.0     7.0\n",
              "55    8.0     7.0"
            ]
          },
          "metadata": {
            "tags": []
          },
          "execution_count": 41
        }
      ]
    },
    {
      "cell_type": "code",
      "metadata": {
        "id": "pCTytj5TPC4d",
        "colab": {
          "base_uri": "https://localhost:8080/"
        },
        "outputId": "4e74a11a-0f4a-4424-856f-2bb631ff4fc2"
      },
      "source": [
        "# dfに元文書を入れている。300文字ほど見る。\n",
        "print(df.iloc[71, 0][:300])\n",
        "print(df.iloc[76, 0][:300])"
      ],
      "execution_count": 42,
      "outputs": [
        {
          "output_type": "stream",
          "text": [
            "恋愛がうまく行っている時に限って、別の男性が魅力的に見えてしまうことがある。ましてや、相手からアタックしてきた場合、女として悪い気持ちにはならないだろう。今回の相談者・メグミさん（女性/39歳）は現在お付き合いしている男性の他に、以前お付き合いをしていた彼とも遠距離恋愛中。悪いことをしている自覚はあるのに、どうしても一人に選びきれない場合、どうすればいいだろうか。二人の男性の本音を含め、江奈先生にスピリチュアル鑑定をしてもらった。【占い師】江奈先生（＠nifty電話占い・メール占い）＜相談内容＞今、好きな人がふたりいます。一人は現在の彼氏。もう一人は関係がうやむやになってしまった遠距離の彼氏…\n",
            "ドラえもんは四次元ポケットからさまざまな道具を出してくれるが、実は独女のバッグの中にもあらゆるものが入っている。働く独女たちに、個性的なバッグの中身を教えてもらった。●ヘビー級！デジタルいろいろバッグWEB制作会社に勤務する静さん（36歳）のバッグの重さは2kgを優に超えるという。大きなトートバッグの中には、スマホ含む携帯電話2台とそれらの充電池、予備電池。さらに、MacBook AirとドコモのXi（もちろん充電器も）。いずれも趣味と仕事の両面で必需品だとか。まるで秋葉原で買い物をした外国人観光客!?「3.11以降、デジタルものの充電切れに備えるようになりました。今後は予備電池の負荷を減らす\n"
          ],
          "name": "stdout"
        }
      ]
    },
    {
      "cell_type": "markdown",
      "metadata": {
        "id": "U1hvCYcuRLzF"
      },
      "source": [
        "文章を見ただけでは、あまり特徴は分かりませんね。。。\n",
        "\n",
        "ただ、スポーツとニュースは、記事の雰囲気がとても似ていることは分かります。\n",
        "\n",
        "これ以上に、IICされたクラスタの特徴をきちんと把握するには、\n",
        "\n",
        "- wordcloudで単語の頻度の傾向を見てみる\n",
        "- クラスタ文書の全ベクトルをいじいじして、なんらかクラスタのベクトルを作って、代表文書を決めたり近い単語を出す\n",
        "\n",
        "などの操作が考えられます。"
      ]
    },
    {
      "cell_type": "markdown",
      "metadata": {
        "id": "8Y37pHqN2YD0"
      },
      "source": [
        "以上。"
      ]
    }
  ]
}